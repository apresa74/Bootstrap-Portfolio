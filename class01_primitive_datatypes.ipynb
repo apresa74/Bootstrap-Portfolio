{
  "nbformat": 4,
  "nbformat_minor": 0,
  "metadata": {
    "colab": {
      "name": "class01_primitive_datatypes.ipynb",
      "provenance": [],
      "authorship_tag": "ABX9TyMnw7o6khyTYWWsy5kKoeMN",
      "include_colab_link": true
    },
    "kernelspec": {
      "name": "python3",
      "display_name": "Python 3"
    }
  },
  "cells": [
    {
      "cell_type": "markdown",
      "metadata": {
        "id": "view-in-github",
        "colab_type": "text"
      },
      "source": [
        "<a href=\"https://colab.research.google.com/github/apresa74/Bootstrap-Portfolio/blob/master/class01_primitive_datatypes.ipynb\" target=\"_parent\"><img src=\"https://colab.research.google.com/assets/colab-badge.svg\" alt=\"Open In Colab\"/></a>"
      ]
    },
    {
      "cell_type": "code",
      "metadata": {
        "id": "CD5ruu3kteja",
        "colab": {
          "base_uri": "https://localhost:8080/"
        },
        "outputId": "a413e0be-2fde-44e2-8ec8-87f76a1d9b9e"
      },
      "source": [
        "# comments\n",
        "\n",
        "studies_human_culture = True\n",
        "\n",
        "uses_digital_methods = True\n",
        "\n",
        "is_a_digital_humanist = studies_human_culture and uses_digital_methods\n",
        "\n",
        "is_a_digital_humanist\n"
      ],
      "execution_count": 15,
      "outputs": [
        {
          "output_type": "execute_result",
          "data": {
            "text/plain": [
              "True"
            ]
          },
          "metadata": {
            "tags": []
          },
          "execution_count": 15
        }
      ]
    },
    {
      "cell_type": "code",
      "metadata": {
        "colab": {
          "base_uri": "https://localhost:8080/"
        },
        "id": "IFfZhZw80I0v",
        "outputId": "8167bfee-92f4-411e-c18b-76122510cee9"
      },
      "source": [
        "am_hungry = False\n",
        "am_feeling_weak = True\n",
        "\n",
        "should_eat_something = am_hungry or am_feeling_weak\n",
        "\n",
        "should_eat_something\n"
      ],
      "execution_count": 16,
      "outputs": [
        {
          "output_type": "execute_result",
          "data": {
            "text/plain": [
              "False"
            ]
          },
          "metadata": {
            "tags": []
          },
          "execution_count": 16
        }
      ]
    },
    {
      "cell_type": "code",
      "metadata": {
        "colab": {
          "base_uri": "https://localhost:8080/"
        },
        "id": "6lyXU3QU23K-",
        "outputId": "ffb3732b-96ce-4fd6-8ba6-af60fce433b3"
      },
      "source": [
        "have_eaten_recently = True\n",
        "\n",
        "should_eat_something = (am_hungry or am_feeling_weak) and not have_eaten_recently\n",
        "\n",
        "should_eat_something\n",
        "\n"
      ],
      "execution_count": 18,
      "outputs": [
        {
          "output_type": "execute_result",
          "data": {
            "text/plain": [
              "False"
            ]
          },
          "metadata": {
            "tags": []
          },
          "execution_count": 18
        }
      ]
    },
    {
      "cell_type": "markdown",
      "metadata": {
        "id": "QnG7k6Zjx054"
      },
      "source": [
        ""
      ]
    }
  ]
}