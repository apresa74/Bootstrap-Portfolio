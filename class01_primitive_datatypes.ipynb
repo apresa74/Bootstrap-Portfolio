{
  "nbformat": 4,
  "nbformat_minor": 0,
  "metadata": {
    "colab": {
      "name": "class01_primitive_datatypes.ipynb",
      "provenance": [],
      "authorship_tag": "ABX9TyMKOlEOxStl85t3QeE4vrpE",
      "include_colab_link": true
    },
    "kernelspec": {
      "name": "python3",
      "display_name": "Python 3"
    }
  },
  "cells": [
    {
      "cell_type": "markdown",
      "metadata": {
        "id": "view-in-github",
        "colab_type": "text"
      },
      "source": [
        "<a href=\"https://colab.research.google.com/github/apresa74/Bootstrap-Portfolio/blob/master/class01_primitive_datatypes.ipynb\" target=\"_parent\"><img src=\"https://colab.research.google.com/assets/colab-badge.svg\" alt=\"Open In Colab\"/></a>"
      ]
    },
    {
      "cell_type": "code",
      "metadata": {
        "id": "CD5ruu3kteja",
        "colab": {
          "base_uri": "https://localhost:8080/"
        },
        "outputId": "a413e0be-2fde-44e2-8ec8-87f76a1d9b9e"
      },
      "source": [
        "# comments\n",
        "\n",
        "studies_human_culture = True\n",
        "\n",
        "uses_digital_methods = True\n",
        "\n",
        "is_a_digital_humanist = studies_human_culture and uses_digital_methods\n",
        "\n",
        "is_a_digital_humanist\n"
      ],
      "execution_count": 15,
      "outputs": [
        {
          "output_type": "execute_result",
          "data": {
            "text/plain": [
              "True"
            ]
          },
          "metadata": {
            "tags": []
          },
          "execution_count": 15
        }
      ]
    },
    {
      "cell_type": "code",
      "metadata": {
        "colab": {
          "base_uri": "https://localhost:8080/"
        },
        "id": "IFfZhZw80I0v",
        "outputId": "8167bfee-92f4-411e-c18b-76122510cee9"
      },
      "source": [
        "am_hungry = False\n",
        "am_feeling_weak = True\n",
        "\n",
        "should_eat_something = am_hungry or am_feeling_weak\n",
        "\n",
        "should_eat_something\n"
      ],
      "execution_count": 16,
      "outputs": [
        {
          "output_type": "execute_result",
          "data": {
            "text/plain": [
              "False"
            ]
          },
          "metadata": {
            "tags": []
          },
          "execution_count": 16
        }
      ]
    },
    {
      "cell_type": "code",
      "metadata": {
        "colab": {
          "base_uri": "https://localhost:8080/"
        },
        "id": "6lyXU3QU23K-",
        "outputId": "ffb3732b-96ce-4fd6-8ba6-af60fce433b3"
      },
      "source": [
        "have_eaten_recently = True\n",
        "\n",
        "should_eat_something = (am_hungry or am_feeling_weak) and not have_eaten_recently\n",
        "\n",
        "should_eat_something\n",
        "\n"
      ],
      "execution_count": 18,
      "outputs": [
        {
          "output_type": "execute_result",
          "data": {
            "text/plain": [
              "False"
            ]
          },
          "metadata": {
            "tags": []
          },
          "execution_count": 18
        }
      ]
    },
    {
      "cell_type": "code",
      "metadata": {
        "colab": {
          "base_uri": "https://localhost:8080/"
        },
        "id": "-E6sWGAa573F",
        "outputId": "5496a601-e24f-4c22-fb95-422c9832d67a"
      },
      "source": [
        "#------------------\n",
        "# Fidgets with digits (integer)\n",
        "#------------------\n",
        "\n",
        "textbooks_owned = 12\n",
        "textbooks_required = 20\n",
        "\n",
        "enough_textbooks = textbooks_owned == textbooks_required\n",
        "\n",
        "enough_textbooks\n"
      ],
      "execution_count": 19,
      "outputs": [
        {
          "output_type": "execute_result",
          "data": {
            "text/plain": [
              "False"
            ]
          },
          "metadata": {
            "tags": []
          },
          "execution_count": 19
        }
      ]
    },
    {
      "cell_type": "code",
      "metadata": {
        "colab": {
          "base_uri": "https://localhost:8080/"
        },
        "id": "YEdd4Ynn6jpq",
        "outputId": "56a12900-838f-4eae-c8f3-22b49c9e5ddc"
      },
      "source": [
        "textbooks_to_buy = textbooks_required - textbooks_owned\n",
        "\n",
        "textbooks_to_buy\n"
      ],
      "execution_count": 20,
      "outputs": [
        {
          "output_type": "execute_result",
          "data": {
            "text/plain": [
              "8"
            ]
          },
          "metadata": {
            "tags": []
          },
          "execution_count": 20
        }
      ]
    },
    {
      "cell_type": "code",
      "metadata": {
        "colab": {
          "base_uri": "https://localhost:8080/"
        },
        "id": "kIN6BE8x721b",
        "outputId": "5eae096b-9a41-4528-f373-9c53ad04768c"
      },
      "source": [
        "textbooks_bought = textbooks_to_buy\n",
        "enough_textbooks = (textbooks_owned + textbooks_bought) == textbooks_required\n",
        "\n",
        "enough_textbooks\n"
      ],
      "execution_count": 22,
      "outputs": [
        {
          "output_type": "execute_result",
          "data": {
            "text/plain": [
              "True"
            ]
          },
          "metadata": {
            "tags": []
          },
          "execution_count": 22
        }
      ]
    },
    {
      "cell_type": "code",
      "metadata": {
        "colab": {
          "base_uri": "https://localhost:8080/"
        },
        "id": "PBsdrc3S8v38",
        "outputId": "c04a501a-34a2-41fa-d1a0-a90aaf8ca4e9"
      },
      "source": [
        "textbooks_required = textbooks_required + 1\n",
        "textbooks_required += 1\n",
        "\n",
        "textbooks_required\n"
      ],
      "execution_count": 23,
      "outputs": [
        {
          "output_type": "execute_result",
          "data": {
            "text/plain": [
              "22"
            ]
          },
          "metadata": {
            "tags": []
          },
          "execution_count": 23
        }
      ]
    },
    {
      "cell_type": "code",
      "metadata": {
        "colab": {
          "base_uri": "https://localhost:8080/",
          "height": 35
        },
        "id": "SxVD8zHe9siS",
        "outputId": "24852ce1-4b39-4ead-e53d-34b320f112f9"
      },
      "source": [
        "#-------------------\n",
        "# FLINGS WITH STRINGS\n",
        "#------------------\n",
        "\n",
        "my_name = \"Miguel Muñiz\"\n",
        "greeting = 'Hi! My name is '\n",
        "\n",
        "full_greeting = greeting + my_name\n",
        "\n",
        "full_greeting\n"
      ],
      "execution_count": 28,
      "outputs": [
        {
          "output_type": "execute_result",
          "data": {
            "application/vnd.google.colaboratory.intrinsic+json": {
              "type": "string"
            },
            "text/plain": [
              "'Hi! My name is Miguel Muñiz'"
            ]
          },
          "metadata": {
            "tags": []
          },
          "execution_count": 28
        }
      ]
    },
    {
      "cell_type": "code",
      "metadata": {
        "colab": {
          "base_uri": "https://localhost:8080/"
        },
        "id": "vxXG_Z8F_E2z",
        "outputId": "dd010c8a-272c-4fbe-83d5-679fc3d90cfd"
      },
      "source": [
        "large_block_of_text = '''\n",
        "  here's a bunch\n",
        "  of multiline text\n",
        "  so \"surround\" it with\n",
        "  triple-quotes!\n",
        "  '''\n",
        "\n",
        "print(large_block_of_text)\n"
      ],
      "execution_count": 30,
      "outputs": [
        {
          "output_type": "stream",
          "text": [
            "\n",
            "  here's a bunch\n",
            "  of multiline text\n",
            "  so \"surround\" it with\n",
            "  triple-quotes!\n",
            "  \n"
          ],
          "name": "stdout"
        }
      ]
    },
    {
      "cell_type": "code",
      "metadata": {
        "colab": {
          "base_uri": "https://localhost:8080/",
          "height": 35
        },
        "id": "I7HyZjkkACSa",
        "outputId": "8fa20a41-bb28-4615-9ec5-ab65b328d22e"
      },
      "source": [
        "greeting = 'Hi! I need this many textboks: '\n",
        "full_request = greeting + str(textbooks_to_buy)\n",
        "\n",
        "full_request\n"
      ],
      "execution_count": 33,
      "outputs": [
        {
          "output_type": "execute_result",
          "data": {
            "application/vnd.google.colaboratory.intrinsic+json": {
              "type": "string"
            },
            "text/plain": [
              "'Hi! I need this many textboks: 8'"
            ]
          },
          "metadata": {
            "tags": []
          },
          "execution_count": 33
        }
      ]
    },
    {
      "cell_type": "code",
      "metadata": {
        "id": "biFtAc0dB1HV"
      },
      "source": [
        "my_float = 1.5\n",
        "my_int = int(my_float)\n",
        "\n"
      ],
      "execution_count": null,
      "outputs": []
    }
  ]
}